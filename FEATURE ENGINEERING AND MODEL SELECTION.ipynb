{
 "cells": [
  {
   "cell_type": "code",
   "execution_count": 1,
   "id": "5d9ddde2",
   "metadata": {},
   "outputs": [],
   "source": [
    "#importing the necessary libraries\n",
    "\n",
    "#numpy and pandas package\n",
    "import pandas as pd\n",
    "import numpy as np\n",
    "\n",
    "#data visualization\n",
    "import matplotlib.pyplot as plt\n",
    "import seaborn as sns\n",
    "\n",
    "#import the warnings\n",
    "import warnings\n",
    "\n",
    "#import the standard scaler\n",
    "#from sklearn.preprocessing import StandardScaler\n",
    "\n",
    "#configuration settings\n",
    "%matplotlib inline\n",
    "warnings.filterwarnings('ignore') ## Surpress the warnings\n",
    "\n",
    "#import the metrics\n",
    "from sklearn import metrics\n",
    "from sklearn.metrics import classification_report\n",
    "from sklearn.metrics import confusion_matrix\n"
   ]
  },
  {
   "cell_type": "code",
   "execution_count": 2,
   "id": "960449d5",
   "metadata": {},
   "outputs": [
    {
     "data": {
      "text/html": [
       "<div>\n",
       "<style scoped>\n",
       "    .dataframe tbody tr th:only-of-type {\n",
       "        vertical-align: middle;\n",
       "    }\n",
       "\n",
       "    .dataframe tbody tr th {\n",
       "        vertical-align: top;\n",
       "    }\n",
       "\n",
       "    .dataframe thead th {\n",
       "        text-align: right;\n",
       "    }\n",
       "</style>\n",
       "<table border=\"1\" class=\"dataframe\">\n",
       "  <thead>\n",
       "    <tr style=\"text-align: right;\">\n",
       "      <th></th>\n",
       "      <th>MonthlyCharge</th>\n",
       "      <th>DataUsage</th>\n",
       "      <th>DayMins</th>\n",
       "      <th>OverageFee</th>\n",
       "      <th>DataPlan</th>\n",
       "      <th>AccountWeeks</th>\n",
       "      <th>RoamMins</th>\n",
       "      <th>ContractRenewal</th>\n",
       "      <th>DayCalls</th>\n",
       "      <th>CustServCalls</th>\n",
       "      <th>Churn</th>\n",
       "    </tr>\n",
       "  </thead>\n",
       "  <tbody>\n",
       "    <tr>\n",
       "      <th>0</th>\n",
       "      <td>47.0</td>\n",
       "      <td>0.00</td>\n",
       "      <td>198.1</td>\n",
       "      <td>7.84</td>\n",
       "      <td>0</td>\n",
       "      <td>80</td>\n",
       "      <td>9.3</td>\n",
       "      <td>1</td>\n",
       "      <td>160</td>\n",
       "      <td>3</td>\n",
       "      <td>0</td>\n",
       "    </tr>\n",
       "    <tr>\n",
       "      <th>1</th>\n",
       "      <td>43.0</td>\n",
       "      <td>0.00</td>\n",
       "      <td>168.2</td>\n",
       "      <td>8.09</td>\n",
       "      <td>0</td>\n",
       "      <td>28</td>\n",
       "      <td>10.1</td>\n",
       "      <td>1</td>\n",
       "      <td>87</td>\n",
       "      <td>3</td>\n",
       "      <td>0</td>\n",
       "    </tr>\n",
       "    <tr>\n",
       "      <th>2</th>\n",
       "      <td>56.0</td>\n",
       "      <td>0.00</td>\n",
       "      <td>252.0</td>\n",
       "      <td>7.51</td>\n",
       "      <td>0</td>\n",
       "      <td>120</td>\n",
       "      <td>9.6</td>\n",
       "      <td>1</td>\n",
       "      <td>120</td>\n",
       "      <td>2</td>\n",
       "      <td>0</td>\n",
       "    </tr>\n",
       "    <tr>\n",
       "      <th>3</th>\n",
       "      <td>58.0</td>\n",
       "      <td>0.00</td>\n",
       "      <td>251.6</td>\n",
       "      <td>8.76</td>\n",
       "      <td>0</td>\n",
       "      <td>105</td>\n",
       "      <td>5.4</td>\n",
       "      <td>1</td>\n",
       "      <td>88</td>\n",
       "      <td>1</td>\n",
       "      <td>0</td>\n",
       "    </tr>\n",
       "    <tr>\n",
       "      <th>4</th>\n",
       "      <td>78.5</td>\n",
       "      <td>1.65</td>\n",
       "      <td>247.2</td>\n",
       "      <td>11.28</td>\n",
       "      <td>1</td>\n",
       "      <td>134</td>\n",
       "      <td>6.1</td>\n",
       "      <td>1</td>\n",
       "      <td>105</td>\n",
       "      <td>2</td>\n",
       "      <td>1</td>\n",
       "    </tr>\n",
       "    <tr>\n",
       "      <th>...</th>\n",
       "      <td>...</td>\n",
       "      <td>...</td>\n",
       "      <td>...</td>\n",
       "      <td>...</td>\n",
       "      <td>...</td>\n",
       "      <td>...</td>\n",
       "      <td>...</td>\n",
       "      <td>...</td>\n",
       "      <td>...</td>\n",
       "      <td>...</td>\n",
       "      <td>...</td>\n",
       "    </tr>\n",
       "    <tr>\n",
       "      <th>2661</th>\n",
       "      <td>31.0</td>\n",
       "      <td>0.00</td>\n",
       "      <td>72.7</td>\n",
       "      <td>10.43</td>\n",
       "      <td>0</td>\n",
       "      <td>27</td>\n",
       "      <td>9.9</td>\n",
       "      <td>1</td>\n",
       "      <td>75</td>\n",
       "      <td>1</td>\n",
       "      <td>0</td>\n",
       "    </tr>\n",
       "    <tr>\n",
       "      <th>2662</th>\n",
       "      <td>50.9</td>\n",
       "      <td>1.59</td>\n",
       "      <td>97.8</td>\n",
       "      <td>10.36</td>\n",
       "      <td>1</td>\n",
       "      <td>89</td>\n",
       "      <td>5.9</td>\n",
       "      <td>1</td>\n",
       "      <td>98</td>\n",
       "      <td>0</td>\n",
       "      <td>0</td>\n",
       "    </tr>\n",
       "    <tr>\n",
       "      <th>2663</th>\n",
       "      <td>42.0</td>\n",
       "      <td>0.00</td>\n",
       "      <td>131.4</td>\n",
       "      <td>10.99</td>\n",
       "      <td>0</td>\n",
       "      <td>93</td>\n",
       "      <td>11.1</td>\n",
       "      <td>0</td>\n",
       "      <td>78</td>\n",
       "      <td>1</td>\n",
       "      <td>1</td>\n",
       "    </tr>\n",
       "    <tr>\n",
       "      <th>2664</th>\n",
       "      <td>53.0</td>\n",
       "      <td>0.00</td>\n",
       "      <td>189.3</td>\n",
       "      <td>11.97</td>\n",
       "      <td>0</td>\n",
       "      <td>91</td>\n",
       "      <td>9.9</td>\n",
       "      <td>1</td>\n",
       "      <td>100</td>\n",
       "      <td>3</td>\n",
       "      <td>0</td>\n",
       "    </tr>\n",
       "    <tr>\n",
       "      <th>2665</th>\n",
       "      <td>68.0</td>\n",
       "      <td>0.00</td>\n",
       "      <td>216.2</td>\n",
       "      <td>18.19</td>\n",
       "      <td>0</td>\n",
       "      <td>130</td>\n",
       "      <td>16.9</td>\n",
       "      <td>0</td>\n",
       "      <td>106</td>\n",
       "      <td>5</td>\n",
       "      <td>1</td>\n",
       "    </tr>\n",
       "  </tbody>\n",
       "</table>\n",
       "<p>2666 rows × 11 columns</p>\n",
       "</div>"
      ],
      "text/plain": [
       "      MonthlyCharge  DataUsage  DayMins  OverageFee  DataPlan  AccountWeeks  \\\n",
       "0              47.0       0.00    198.1        7.84         0            80   \n",
       "1              43.0       0.00    168.2        8.09         0            28   \n",
       "2              56.0       0.00    252.0        7.51         0           120   \n",
       "3              58.0       0.00    251.6        8.76         0           105   \n",
       "4              78.5       1.65    247.2       11.28         1           134   \n",
       "...             ...        ...      ...         ...       ...           ...   \n",
       "2661           31.0       0.00     72.7       10.43         0            27   \n",
       "2662           50.9       1.59     97.8       10.36         1            89   \n",
       "2663           42.0       0.00    131.4       10.99         0            93   \n",
       "2664           53.0       0.00    189.3       11.97         0            91   \n",
       "2665           68.0       0.00    216.2       18.19         0           130   \n",
       "\n",
       "      RoamMins  ContractRenewal  DayCalls  CustServCalls  Churn  \n",
       "0          9.3                1       160              3      0  \n",
       "1         10.1                1        87              3      0  \n",
       "2          9.6                1       120              2      0  \n",
       "3          5.4                1        88              1      0  \n",
       "4          6.1                1       105              2      1  \n",
       "...        ...              ...       ...            ...    ...  \n",
       "2661       9.9                1        75              1      0  \n",
       "2662       5.9                1        98              0      0  \n",
       "2663      11.1                0        78              1      1  \n",
       "2664       9.9                1       100              3      0  \n",
       "2665      16.9                0       106              5      1  \n",
       "\n",
       "[2666 rows x 11 columns]"
      ]
     },
     "execution_count": 2,
     "metadata": {},
     "output_type": "execute_result"
    }
   ],
   "source": [
    "# loading the train and test data set\n",
    "train=pd.read_csv('train_.csv')\n",
    "train\n"
   ]
  },
  {
   "cell_type": "code",
   "execution_count": 3,
   "id": "80702784",
   "metadata": {},
   "outputs": [
    {
     "name": "stdout",
     "output_type": "stream",
     "text": [
      "<class 'pandas.core.frame.DataFrame'>\n",
      "RangeIndex: 2666 entries, 0 to 2665\n",
      "Data columns (total 11 columns):\n",
      " #   Column           Non-Null Count  Dtype  \n",
      "---  ------           --------------  -----  \n",
      " 0   MonthlyCharge    2666 non-null   float64\n",
      " 1   DataUsage        2666 non-null   float64\n",
      " 2   DayMins          2666 non-null   float64\n",
      " 3   OverageFee       2666 non-null   float64\n",
      " 4   DataPlan         2666 non-null   int64  \n",
      " 5   AccountWeeks     2666 non-null   int64  \n",
      " 6   RoamMins         2666 non-null   float64\n",
      " 7   ContractRenewal  2666 non-null   int64  \n",
      " 8   DayCalls         2666 non-null   int64  \n",
      " 9   CustServCalls    2666 non-null   int64  \n",
      " 10  Churn            2666 non-null   int64  \n",
      "dtypes: float64(5), int64(6)\n",
      "memory usage: 229.2 KB\n"
     ]
    }
   ],
   "source": [
    "train.info()"
   ]
  },
  {
   "cell_type": "code",
   "execution_count": 4,
   "id": "065a39a0",
   "metadata": {},
   "outputs": [],
   "source": [
    "#typecasting \"churn\",\"contract renewal\" and \"Dataplan\" to category type\n",
    "train['Churn'] = train['Churn'].astype('category')\n",
    "train['ContractRenewal'] =train['ContractRenewal'].astype('category')\n",
    "train['DataPlan'] = train['DataPlan'].astype('category')\n"
   ]
  },
  {
   "cell_type": "code",
   "execution_count": 5,
   "id": "f77c2a1a",
   "metadata": {},
   "outputs": [
    {
     "name": "stdout",
     "output_type": "stream",
     "text": [
      "<class 'pandas.core.frame.DataFrame'>\n",
      "RangeIndex: 2666 entries, 0 to 2665\n",
      "Data columns (total 11 columns):\n",
      " #   Column           Non-Null Count  Dtype   \n",
      "---  ------           --------------  -----   \n",
      " 0   MonthlyCharge    2666 non-null   float64 \n",
      " 1   DataUsage        2666 non-null   float64 \n",
      " 2   DayMins          2666 non-null   float64 \n",
      " 3   OverageFee       2666 non-null   float64 \n",
      " 4   DataPlan         2666 non-null   category\n",
      " 5   AccountWeeks     2666 non-null   int64   \n",
      " 6   RoamMins         2666 non-null   float64 \n",
      " 7   ContractRenewal  2666 non-null   category\n",
      " 8   DayCalls         2666 non-null   int64   \n",
      " 9   CustServCalls    2666 non-null   int64   \n",
      " 10  Churn            2666 non-null   category\n",
      "dtypes: category(3), float64(5), int64(3)\n",
      "memory usage: 174.9 KB\n"
     ]
    }
   ],
   "source": [
    "train.info()"
   ]
  },
  {
   "cell_type": "code",
   "execution_count": 6,
   "id": "f26451fc",
   "metadata": {},
   "outputs": [
    {
     "data": {
      "text/html": [
       "<div>\n",
       "<style scoped>\n",
       "    .dataframe tbody tr th:only-of-type {\n",
       "        vertical-align: middle;\n",
       "    }\n",
       "\n",
       "    .dataframe tbody tr th {\n",
       "        vertical-align: top;\n",
       "    }\n",
       "\n",
       "    .dataframe thead th {\n",
       "        text-align: right;\n",
       "    }\n",
       "</style>\n",
       "<table border=\"1\" class=\"dataframe\">\n",
       "  <thead>\n",
       "    <tr style=\"text-align: right;\">\n",
       "      <th></th>\n",
       "      <th>MonthlyCharge</th>\n",
       "      <th>DataUsage</th>\n",
       "      <th>DayMins</th>\n",
       "      <th>OverageFee</th>\n",
       "      <th>AccountWeeks</th>\n",
       "      <th>RoamMins</th>\n",
       "      <th>DayCalls</th>\n",
       "      <th>CustServCalls</th>\n",
       "    </tr>\n",
       "  </thead>\n",
       "  <tbody>\n",
       "    <tr>\n",
       "      <th>count</th>\n",
       "      <td>2666.000000</td>\n",
       "      <td>2666.000000</td>\n",
       "      <td>2666.000000</td>\n",
       "      <td>2666.000000</td>\n",
       "      <td>2666.000000</td>\n",
       "      <td>2666.000000</td>\n",
       "      <td>2666.000000</td>\n",
       "      <td>2666.000000</td>\n",
       "    </tr>\n",
       "    <tr>\n",
       "      <th>mean</th>\n",
       "      <td>56.320930</td>\n",
       "      <td>0.809400</td>\n",
       "      <td>179.960315</td>\n",
       "      <td>10.081515</td>\n",
       "      <td>100.351463</td>\n",
       "      <td>10.240548</td>\n",
       "      <td>100.424231</td>\n",
       "      <td>1.554389</td>\n",
       "    </tr>\n",
       "    <tr>\n",
       "      <th>std</th>\n",
       "      <td>16.341468</td>\n",
       "      <td>1.271081</td>\n",
       "      <td>54.233805</td>\n",
       "      <td>2.551629</td>\n",
       "      <td>39.902158</td>\n",
       "      <td>2.813472</td>\n",
       "      <td>20.116856</td>\n",
       "      <td>1.317883</td>\n",
       "    </tr>\n",
       "    <tr>\n",
       "      <th>min</th>\n",
       "      <td>14.000000</td>\n",
       "      <td>0.000000</td>\n",
       "      <td>0.000000</td>\n",
       "      <td>0.000000</td>\n",
       "      <td>1.000000</td>\n",
       "      <td>0.000000</td>\n",
       "      <td>0.000000</td>\n",
       "      <td>0.000000</td>\n",
       "    </tr>\n",
       "    <tr>\n",
       "      <th>25%</th>\n",
       "      <td>45.000000</td>\n",
       "      <td>0.000000</td>\n",
       "      <td>144.650000</td>\n",
       "      <td>8.350000</td>\n",
       "      <td>73.000000</td>\n",
       "      <td>8.500000</td>\n",
       "      <td>87.000000</td>\n",
       "      <td>1.000000</td>\n",
       "    </tr>\n",
       "    <tr>\n",
       "      <th>50%</th>\n",
       "      <td>53.100000</td>\n",
       "      <td>0.000000</td>\n",
       "      <td>179.400000</td>\n",
       "      <td>10.125000</td>\n",
       "      <td>100.000000</td>\n",
       "      <td>10.300000</td>\n",
       "      <td>100.000000</td>\n",
       "      <td>1.000000</td>\n",
       "    </tr>\n",
       "    <tr>\n",
       "      <th>75%</th>\n",
       "      <td>66.175000</td>\n",
       "      <td>1.760000</td>\n",
       "      <td>216.000000</td>\n",
       "      <td>11.810000</td>\n",
       "      <td>127.000000</td>\n",
       "      <td>12.100000</td>\n",
       "      <td>114.000000</td>\n",
       "      <td>2.000000</td>\n",
       "    </tr>\n",
       "    <tr>\n",
       "      <th>max</th>\n",
       "      <td>111.300000</td>\n",
       "      <td>5.400000</td>\n",
       "      <td>350.800000</td>\n",
       "      <td>18.190000</td>\n",
       "      <td>232.000000</td>\n",
       "      <td>20.000000</td>\n",
       "      <td>165.000000</td>\n",
       "      <td>9.000000</td>\n",
       "    </tr>\n",
       "  </tbody>\n",
       "</table>\n",
       "</div>"
      ],
      "text/plain": [
       "       MonthlyCharge    DataUsage      DayMins   OverageFee  AccountWeeks  \\\n",
       "count    2666.000000  2666.000000  2666.000000  2666.000000   2666.000000   \n",
       "mean       56.320930     0.809400   179.960315    10.081515    100.351463   \n",
       "std        16.341468     1.271081    54.233805     2.551629     39.902158   \n",
       "min        14.000000     0.000000     0.000000     0.000000      1.000000   \n",
       "25%        45.000000     0.000000   144.650000     8.350000     73.000000   \n",
       "50%        53.100000     0.000000   179.400000    10.125000    100.000000   \n",
       "75%        66.175000     1.760000   216.000000    11.810000    127.000000   \n",
       "max       111.300000     5.400000   350.800000    18.190000    232.000000   \n",
       "\n",
       "          RoamMins     DayCalls  CustServCalls  \n",
       "count  2666.000000  2666.000000    2666.000000  \n",
       "mean     10.240548   100.424231       1.554389  \n",
       "std       2.813472    20.116856       1.317883  \n",
       "min       0.000000     0.000000       0.000000  \n",
       "25%       8.500000    87.000000       1.000000  \n",
       "50%      10.300000   100.000000       1.000000  \n",
       "75%      12.100000   114.000000       2.000000  \n",
       "max      20.000000   165.000000       9.000000  "
      ]
     },
     "execution_count": 6,
     "metadata": {},
     "output_type": "execute_result"
    }
   ],
   "source": [
    "train.describe()"
   ]
  },
  {
   "cell_type": "code",
   "execution_count": 7,
   "id": "2ce1778b",
   "metadata": {},
   "outputs": [],
   "source": [
    "X=train[['MonthlyCharge','DataUsage','DayMins','OverageFee','AccountWeeks','RoamMins','DayCalls','CustServCalls']]\n",
    "y=train[['Churn']]"
   ]
  },
  {
   "cell_type": "code",
   "execution_count": 8,
   "id": "138aa825",
   "metadata": {},
   "outputs": [
    {
     "data": {
      "text/plain": [
       "Text(0.5, 1.0, 'ORIGINAL DATA')"
      ]
     },
     "execution_count": 8,
     "metadata": {},
     "output_type": "execute_result"
    },
    {
     "data": {
      "image/png": "[encoded data removed]",
      "text/plain": [
       "<Figure size 432x288 with 1 Axes>"
      ]
     },
     "metadata": {
      "needs_background": "light"
     },
     "output_type": "display_data"
    }
   ],
   "source": [
    "#boxplot of original data\n",
    "plt.boxplot(X)\n",
    "plt.title('ORIGINAL DATA')"
   ]
  },
  {
   "cell_type": "markdown",
   "id": "c818bdb3",
   "metadata": {},
   "source": [
    "## Min Max Scaler "
   ]
  },
  {
   "cell_type": "code",
   "execution_count": 9,
   "id": "807459aa",
   "metadata": {},
   "outputs": [
    {
     "data": {
      "text/html": [
       "<div>\n",
       "<style scoped>\n",
       "    .dataframe tbody tr th:only-of-type {\n",
       "        vertical-align: middle;\n",
       "    }\n",
       "\n",
       "    .dataframe tbody tr th {\n",
       "        vertical-align: top;\n",
       "    }\n",
       "\n",
       "    .dataframe thead th {\n",
       "        text-align: right;\n",
       "    }\n",
       "</style>\n",
       "<table border=\"1\" class=\"dataframe\">\n",
       "  <thead>\n",
       "    <tr style=\"text-align: right;\">\n",
       "      <th></th>\n",
       "      <th>MonthlyCharge</th>\n",
       "      <th>DataUsage</th>\n",
       "      <th>DayMins</th>\n",
       "      <th>OverageFee</th>\n",
       "      <th>AccountWeeks</th>\n",
       "      <th>RoamMins</th>\n",
       "      <th>DayCalls</th>\n",
       "      <th>CustServCalls</th>\n",
       "    </tr>\n",
       "  </thead>\n",
       "  <tbody>\n",
       "    <tr>\n",
       "      <th>0</th>\n",
       "      <td>0.339157</td>\n",
       "      <td>0.000000</td>\n",
       "      <td>0.564709</td>\n",
       "      <td>0.431006</td>\n",
       "      <td>0.341991</td>\n",
       "      <td>0.465</td>\n",
       "      <td>0.969697</td>\n",
       "      <td>0.333333</td>\n",
       "    </tr>\n",
       "    <tr>\n",
       "      <th>1</th>\n",
       "      <td>0.298047</td>\n",
       "      <td>0.000000</td>\n",
       "      <td>0.479475</td>\n",
       "      <td>0.444750</td>\n",
       "      <td>0.116883</td>\n",
       "      <td>0.505</td>\n",
       "      <td>0.527273</td>\n",
       "      <td>0.333333</td>\n",
       "    </tr>\n",
       "    <tr>\n",
       "      <th>2</th>\n",
       "      <td>0.431655</td>\n",
       "      <td>0.000000</td>\n",
       "      <td>0.718358</td>\n",
       "      <td>0.412864</td>\n",
       "      <td>0.515152</td>\n",
       "      <td>0.480</td>\n",
       "      <td>0.727273</td>\n",
       "      <td>0.222222</td>\n",
       "    </tr>\n",
       "    <tr>\n",
       "      <th>3</th>\n",
       "      <td>0.452210</td>\n",
       "      <td>0.000000</td>\n",
       "      <td>0.717218</td>\n",
       "      <td>0.481583</td>\n",
       "      <td>0.450216</td>\n",
       "      <td>0.270</td>\n",
       "      <td>0.533333</td>\n",
       "      <td>0.111111</td>\n",
       "    </tr>\n",
       "    <tr>\n",
       "      <th>4</th>\n",
       "      <td>0.662898</td>\n",
       "      <td>0.305556</td>\n",
       "      <td>0.704675</td>\n",
       "      <td>0.620121</td>\n",
       "      <td>0.575758</td>\n",
       "      <td>0.305</td>\n",
       "      <td>0.636364</td>\n",
       "      <td>0.222222</td>\n",
       "    </tr>\n",
       "    <tr>\n",
       "      <th>...</th>\n",
       "      <td>...</td>\n",
       "      <td>...</td>\n",
       "      <td>...</td>\n",
       "      <td>...</td>\n",
       "      <td>...</td>\n",
       "      <td>...</td>\n",
       "      <td>...</td>\n",
       "      <td>...</td>\n",
       "    </tr>\n",
       "    <tr>\n",
       "      <th>2661</th>\n",
       "      <td>0.174717</td>\n",
       "      <td>0.000000</td>\n",
       "      <td>0.207241</td>\n",
       "      <td>0.573392</td>\n",
       "      <td>0.112554</td>\n",
       "      <td>0.495</td>\n",
       "      <td>0.454545</td>\n",
       "      <td>0.111111</td>\n",
       "    </tr>\n",
       "    <tr>\n",
       "      <th>2662</th>\n",
       "      <td>0.379239</td>\n",
       "      <td>0.294444</td>\n",
       "      <td>0.278791</td>\n",
       "      <td>0.569544</td>\n",
       "      <td>0.380952</td>\n",
       "      <td>0.295</td>\n",
       "      <td>0.593939</td>\n",
       "      <td>0.000000</td>\n",
       "    </tr>\n",
       "    <tr>\n",
       "      <th>2663</th>\n",
       "      <td>0.287770</td>\n",
       "      <td>0.000000</td>\n",
       "      <td>0.374572</td>\n",
       "      <td>0.604178</td>\n",
       "      <td>0.398268</td>\n",
       "      <td>0.555</td>\n",
       "      <td>0.472727</td>\n",
       "      <td>0.111111</td>\n",
       "    </tr>\n",
       "    <tr>\n",
       "      <th>2664</th>\n",
       "      <td>0.400822</td>\n",
       "      <td>0.000000</td>\n",
       "      <td>0.539624</td>\n",
       "      <td>0.658054</td>\n",
       "      <td>0.389610</td>\n",
       "      <td>0.495</td>\n",
       "      <td>0.606061</td>\n",
       "      <td>0.333333</td>\n",
       "    </tr>\n",
       "    <tr>\n",
       "      <th>2665</th>\n",
       "      <td>0.554985</td>\n",
       "      <td>0.000000</td>\n",
       "      <td>0.616306</td>\n",
       "      <td>1.000000</td>\n",
       "      <td>0.558442</td>\n",
       "      <td>0.845</td>\n",
       "      <td>0.642424</td>\n",
       "      <td>0.555556</td>\n",
       "    </tr>\n",
       "  </tbody>\n",
       "</table>\n",
       "<p>2666 rows × 8 columns</p>\n",
       "</div>"
      ],
      "text/plain": [
       "      MonthlyCharge  DataUsage   DayMins  OverageFee  AccountWeeks  RoamMins  \\\n",
       "0          0.339157   0.000000  0.564709    0.431006      0.341991     0.465   \n",
       "1          0.298047   0.000000  0.479475    0.444750      0.116883     0.505   \n",
       "2          0.431655   0.000000  0.718358    0.412864      0.515152     0.480   \n",
       "3          0.452210   0.000000  0.717218    0.481583      0.450216     0.270   \n",
       "4          0.662898   0.305556  0.704675    0.620121      0.575758     0.305   \n",
       "...             ...        ...       ...         ...           ...       ...   \n",
       "2661       0.174717   0.000000  0.207241    0.573392      0.112554     0.495   \n",
       "2662       0.379239   0.294444  0.278791    0.569544      0.380952     0.295   \n",
       "2663       0.287770   0.000000  0.374572    0.604178      0.398268     0.555   \n",
       "2664       0.400822   0.000000  0.539624    0.658054      0.389610     0.495   \n",
       "2665       0.554985   0.000000  0.616306    1.000000      0.558442     0.845   \n",
       "\n",
       "      DayCalls  CustServCalls  \n",
       "0     0.969697       0.333333  \n",
       "1     0.527273       0.333333  \n",
       "2     0.727273       0.222222  \n",
       "3     0.533333       0.111111  \n",
       "4     0.636364       0.222222  \n",
       "...        ...            ...  \n",
       "2661  0.454545       0.111111  \n",
       "2662  0.593939       0.000000  \n",
       "2663  0.472727       0.111111  \n",
       "2664  0.606061       0.333333  \n",
       "2665  0.642424       0.555556  \n",
       "\n",
       "[2666 rows x 8 columns]"
      ]
     },
     "execution_count": 9,
     "metadata": {},
     "output_type": "execute_result"
    }
   ],
   "source": [
    "#importing the necessary libraries\n",
    "from sklearn.preprocessing import MinMaxScaler\n",
    "\n",
    "#standardizing the independendent variables\n",
    "scaler=MinMaxScaler()\n",
    "X_scaled=scaler.fit_transform(X)\n",
    "X_scaled=pd.DataFrame(X_scaled,columns=['MonthlyCharge','DataUsage','DayMins','OverageFee','AccountWeeks','RoamMins','DayCalls','CustServCalls'])\n",
    "X_scaled"
   ]
  },
  {
   "cell_type": "code",
   "execution_count": 10,
   "id": "4b3c006b",
   "metadata": {},
   "outputs": [
    {
     "data": {
      "text/plain": [
       "Text(0.5, 1.0, 'SCALED DATA')"
      ]
     },
     "execution_count": 10,
     "metadata": {},
     "output_type": "execute_result"
    },
    {
     "data": {
      "image/png": "[encoded data removed]",
      "text/plain": [
       "<Figure size 432x288 with 1 Axes>"
      ]
     },
     "metadata": {
      "needs_background": "light"
     },
     "output_type": "display_data"
    }
   ],
   "source": [
    "#boxplot of the standardized data.\n",
    "plt.boxplot(X_scaled)\n",
    "plt.title('SCALED DATA')"
   ]
  },
  {
   "cell_type": "code",
   "execution_count": 11,
   "id": "60949519",
   "metadata": {
    "scrolled": true
   },
   "outputs": [
    {
     "data": {
      "text/html": [
       "<div>\n",
       "<style scoped>\n",
       "    .dataframe tbody tr th:only-of-type {\n",
       "        vertical-align: middle;\n",
       "    }\n",
       "\n",
       "    .dataframe tbody tr th {\n",
       "        vertical-align: top;\n",
       "    }\n",
       "\n",
       "    .dataframe thead th {\n",
       "        text-align: right;\n",
       "    }\n",
       "</style>\n",
       "<table border=\"1\" class=\"dataframe\">\n",
       "  <thead>\n",
       "    <tr style=\"text-align: right;\">\n",
       "      <th></th>\n",
       "      <th>MonthlyCharge</th>\n",
       "      <th>DataUsage</th>\n",
       "      <th>DayMins</th>\n",
       "      <th>OverageFee</th>\n",
       "      <th>AccountWeeks</th>\n",
       "      <th>RoamMins</th>\n",
       "      <th>DayCalls</th>\n",
       "      <th>CustServCalls</th>\n",
       "    </tr>\n",
       "  </thead>\n",
       "  <tbody>\n",
       "    <tr>\n",
       "      <th>count</th>\n",
       "      <td>2666.000000</td>\n",
       "      <td>2666.000000</td>\n",
       "      <td>2666.000000</td>\n",
       "      <td>2666.000000</td>\n",
       "      <td>2666.000000</td>\n",
       "      <td>2666.000000</td>\n",
       "      <td>2666.000000</td>\n",
       "      <td>2666.000000</td>\n",
       "    </tr>\n",
       "    <tr>\n",
       "      <th>mean</th>\n",
       "      <td>0.434953</td>\n",
       "      <td>0.149889</td>\n",
       "      <td>0.513000</td>\n",
       "      <td>0.554234</td>\n",
       "      <td>0.430093</td>\n",
       "      <td>0.512027</td>\n",
       "      <td>0.608632</td>\n",
       "      <td>0.172710</td>\n",
       "    </tr>\n",
       "    <tr>\n",
       "      <th>std</th>\n",
       "      <td>0.167949</td>\n",
       "      <td>0.235385</td>\n",
       "      <td>0.154600</td>\n",
       "      <td>0.140276</td>\n",
       "      <td>0.172737</td>\n",
       "      <td>0.140674</td>\n",
       "      <td>0.121920</td>\n",
       "      <td>0.146431</td>\n",
       "    </tr>\n",
       "    <tr>\n",
       "      <th>min</th>\n",
       "      <td>0.000000</td>\n",
       "      <td>0.000000</td>\n",
       "      <td>0.000000</td>\n",
       "      <td>0.000000</td>\n",
       "      <td>0.000000</td>\n",
       "      <td>0.000000</td>\n",
       "      <td>0.000000</td>\n",
       "      <td>0.000000</td>\n",
       "    </tr>\n",
       "    <tr>\n",
       "      <th>25%</th>\n",
       "      <td>0.318602</td>\n",
       "      <td>0.000000</td>\n",
       "      <td>0.412343</td>\n",
       "      <td>0.459043</td>\n",
       "      <td>0.311688</td>\n",
       "      <td>0.425000</td>\n",
       "      <td>0.527273</td>\n",
       "      <td>0.111111</td>\n",
       "    </tr>\n",
       "    <tr>\n",
       "      <th>50%</th>\n",
       "      <td>0.401850</td>\n",
       "      <td>0.000000</td>\n",
       "      <td>0.511403</td>\n",
       "      <td>0.556625</td>\n",
       "      <td>0.428571</td>\n",
       "      <td>0.515000</td>\n",
       "      <td>0.606061</td>\n",
       "      <td>0.111111</td>\n",
       "    </tr>\n",
       "    <tr>\n",
       "      <th>75%</th>\n",
       "      <td>0.536228</td>\n",
       "      <td>0.325926</td>\n",
       "      <td>0.615735</td>\n",
       "      <td>0.649258</td>\n",
       "      <td>0.545455</td>\n",
       "      <td>0.605000</td>\n",
       "      <td>0.690909</td>\n",
       "      <td>0.222222</td>\n",
       "    </tr>\n",
       "    <tr>\n",
       "      <th>max</th>\n",
       "      <td>1.000000</td>\n",
       "      <td>1.000000</td>\n",
       "      <td>1.000000</td>\n",
       "      <td>1.000000</td>\n",
       "      <td>1.000000</td>\n",
       "      <td>1.000000</td>\n",
       "      <td>1.000000</td>\n",
       "      <td>1.000000</td>\n",
       "    </tr>\n",
       "  </tbody>\n",
       "</table>\n",
       "</div>"
      ],
      "text/plain": [
       "       MonthlyCharge    DataUsage      DayMins   OverageFee  AccountWeeks  \\\n",
       "count    2666.000000  2666.000000  2666.000000  2666.000000   2666.000000   \n",
       "mean        0.434953     0.149889     0.513000     0.554234      0.430093   \n",
       "std         0.167949     0.235385     0.154600     0.140276      0.172737   \n",
       "min         0.000000     0.000000     0.000000     0.000000      0.000000   \n",
       "25%         0.318602     0.000000     0.412343     0.459043      0.311688   \n",
       "50%         0.401850     0.000000     0.511403     0.556625      0.428571   \n",
       "75%         0.536228     0.325926     0.615735     0.649258      0.545455   \n",
       "max         1.000000     1.000000     1.000000     1.000000      1.000000   \n",
       "\n",
       "          RoamMins     DayCalls  CustServCalls  \n",
       "count  2666.000000  2666.000000    2666.000000  \n",
       "mean      0.512027     0.608632       0.172710  \n",
       "std       0.140674     0.121920       0.146431  \n",
       "min       0.000000     0.000000       0.000000  \n",
       "25%       0.425000     0.527273       0.111111  \n",
       "50%       0.515000     0.606061       0.111111  \n",
       "75%       0.605000     0.690909       0.222222  \n",
       "max       1.000000     1.000000       1.000000  "
      ]
     },
     "execution_count": 11,
     "metadata": {},
     "output_type": "execute_result"
    }
   ],
   "source": [
    "X_scaled.describe()\n"
   ]
  },
  {
   "cell_type": "markdown",
   "id": "c3e5fd46",
   "metadata": {},
   "source": [
    "## Anomaly Detection"
   ]
  },
  {
   "cell_type": "code",
   "execution_count": 187,
   "id": "2b15ee9b",
   "metadata": {},
   "outputs": [],
   "source": [
    "#identifying the outliers\n",
    "#Monthly Charge Outliers\n",
    "outliers = []\n",
    "def detect_outliers_iqr(data):\n",
    "    data = sorted(data)\n",
    "    q1 = np.percentile(data, 25)\n",
    "    q3 = np.percentile(data, 75)\n",
    "    # print(q1, q3)\n",
    "    IQR = q3-q1\n",
    "    lwr_bound = q1-(1.5*IQR)\n",
    "    upr_bound = q3+(1.5*IQR)\n",
    "    # print(lwr_bound, upr_bound)\n",
    "    for i in data: \n",
    "        if (i<lwr_bound or i>upr_bound):\n",
    "            outliers.append(i)\n",
    "    return outliers\n",
    "\n"
   ]
  },
  {
   "cell_type": "code",
   "execution_count": 198,
   "id": "d2dff986",
   "metadata": {},
   "outputs": [
    {
     "name": "stdout",
     "output_type": "stream",
     "text": [
      "MonthlyCharge_clean [-0.57049213 -0.81531411 -0.01964269 ... -0.8765196  -0.20325917\n",
      "  0.71482323]\n"
     ]
    },
    {
     "data": {
      "text/plain": [
       "Text(0.5, 1.0, 'MonthlyCharge Boxplot-No Outliers')"
      ]
     },
     "execution_count": 198,
     "metadata": {},
     "output_type": "execute_result"
    },
    {
     "data": {
      "image/png": "[encoded data removed]",
      "text/plain": [
       "<Figure size 432x288 with 1 Axes>"
      ]
     },
     "metadata": {
      "needs_background": "light"
     },
     "output_type": "display_data"
    }
   ],
   "source": [
    "# MonthlyCharge \n",
    "sample_outliers = detect_outliers_iqr(X_std['MonthlyCharge'])\n",
    "# Mean/Median imputation treatment\n",
    "#computing the median\n",
    "median=np.median(X_std['MonthlyCharge'])\n",
    "\n",
    "#Replacing outliers with the median\n",
    "for i in sample_outliers:\n",
    "    c= np.where(X_std['MonthlyCharge']==i,-0.19713862432619955,X_std['MonthlyCharge'])\n",
    "    \n",
    "#print(\"MonthlyCharge_std \", X_std['MonthlyCharge'])\n",
    "print(\"MonthlyCharge_clean\",c)\n",
    "#boxplot with no outliers\n",
    "plt.boxplot(c)\n",
    "plt.title('MonthlyCharge Boxplot-No Outliers')"
   ]
  },
  {
   "cell_type": "code",
   "execution_count": 200,
   "id": "c5437349",
   "metadata": {},
   "outputs": [
    {
     "name": "stdout",
     "output_type": "stream",
     "text": [
      "custServ_clean [ 1.09712515  1.09712515  0.33819011 ... -0.42074493  1.09712515\n",
      "  2.61499524]\n"
     ]
    },
    {
     "data": {
      "text/plain": [
       "Text(0.5, 1.0, 'MonthlyCharge Boxplot-No Outliers')"
      ]
     },
     "execution_count": 200,
     "metadata": {},
     "output_type": "execute_result"
    },
    {
     "data": {
      "image/png": "[encoded data removed]",
      "text/plain": [
       "<Figure size 432x288 with 1 Axes>"
      ]
     },
     "metadata": {
      "needs_background": "light"
     },
     "output_type": "display_data"
    }
   ],
   "source": [
    "#cust serv calls\n",
    "custServ_outliers = detect_outliers_iqr(X_std['CustServCalls'])\n",
    "# Mean/Median imputation treatment\n",
    "#computing the median\n",
    "median=np.median(X_std['CustServCalls'])\n",
    "median\n",
    "\n",
    "#Replacing outliers with the median\n",
    "for i in custServ_outliers:\n",
    "    cs_clean= np.where(X_std['CustServCalls']==i,-0.4207449339408027,X_std['CustServCalls'])\n",
    "    \n",
    "#print(\"MonthlyCharge_std \", X_std['MonthlyCharge'])\n",
    "print(\"custServ_clean\",cs_clean)\n",
    "#boxplot with no outliers\n",
    "plt.boxplot(cs_clean)\n",
    "plt.title('MonthlyCharge Boxplot-No Outliers')"
   ]
  },
  {
   "cell_type": "markdown",
   "id": "b3c9e362",
   "metadata": {},
   "source": [
    "### ***Notice:-The boxplots seem to remain the same even after treating the outliers"
   ]
  },
  {
   "cell_type": "markdown",
   "id": "c6bf162a",
   "metadata": {},
   "source": [
    "# Random Forest Feature Selection\n",
    "\n"
   ]
  },
  {
   "cell_type": "code",
   "execution_count": 12,
   "id": "da58d57e",
   "metadata": {},
   "outputs": [
    {
     "data": {
      "text/plain": [
       "DayMins          0.211290\n",
       "MonthlyCharge    0.174524\n",
       "CustServCalls    0.149620\n",
       "OverageFee       0.113196\n",
       "DataUsage        0.110375\n",
       "RoamMins         0.084531\n",
       "AccountWeeks     0.079035\n",
       "DayCalls         0.077429\n",
       "dtype: float64"
      ]
     },
     "execution_count": 12,
     "metadata": {},
     "output_type": "execute_result"
    }
   ],
   "source": [
    "#Random forest feature selection\n",
    "from sklearn.ensemble import RandomForestClassifier\n",
    "\n",
    "#defining the model\n",
    "model=RandomForestClassifier()\n",
    "#fitting the model\n",
    "model.fit(X_scaled,y)\n",
    "#get importance\n",
    "model.feature_importances_\n",
    "#summarize feature importance\n",
    "feature_scores=pd.Series(model.feature_importances_,index=X_scaled.columns).sort_values(ascending=False)\n",
    "feature_scores\n",
    "#plot for feature importance\n",
    "#plt.bar([X_std for X_std in range(len(feature_scores))],feature_scores)\n",
    "#plt.show()\n"
   ]
  },
  {
   "cell_type": "markdown",
   "id": "dcba74f0",
   "metadata": {},
   "source": [
    "## Insights drawn from the analysis\n",
    "#### -The most important variables include: DayMins,MonthlyCharge,CustServCalls,OverageFee,RoamMins."
   ]
  },
  {
   "cell_type": "markdown",
   "id": "5a50b2ac",
   "metadata": {},
   "source": [
    "# Recursive Feature Selection"
   ]
  },
  {
   "cell_type": "code",
   "execution_count": 13,
   "id": "1f4033eb",
   "metadata": {},
   "outputs": [],
   "source": [
    "# Recursive Feature Selection\n",
    "from sklearn.feature_selection import RFE\n",
    "forest=RandomForestClassifier()\n",
    "rfe=RFE(estimator=forest,n_features_to_select=5,step=1)\n",
    "rfe=rfe.fit(X_scaled,y)\n"
   ]
  },
  {
   "cell_type": "code",
   "execution_count": 14,
   "id": "63bdde74",
   "metadata": {},
   "outputs": [
    {
     "name": "stdout",
     "output_type": "stream",
     "text": [
      "Index(['MonthlyCharge', 'DataUsage', 'DayMins', 'OverageFee', 'CustServCalls'], dtype='object')\n"
     ]
    }
   ],
   "source": [
    "print(X_scaled.columns[rfe.support_])"
   ]
  },
  {
   "cell_type": "code",
   "execution_count": 16,
   "id": "f4cb47c6",
   "metadata": {},
   "outputs": [
    {
     "data": {
      "text/plain": [
       "Text(0.5, 1.0, 'BOXPLOT OF IMPORTANT FEATURES')"
      ]
     },
     "execution_count": 16,
     "metadata": {},
     "output_type": "execute_result"
    },
    {
     "data": {
      "image/png": "[encoded data removed]",
      "text/plain": [
       "<Figure size 432x288 with 1 Axes>"
      ]
     },
     "metadata": {
      "needs_background": "light"
     },
     "output_type": "display_data"
    }
   ],
   "source": [
    "#creating a df with the important features\n",
    "X_scaled=X_scaled[['MonthlyCharge','DataUsage','DayMins','OverageFee','CustServCalls']]\n",
    "plt.boxplot(X_scaled)\n",
    "plt.title('BOXPLOT OF IMPORTANT FEATURES')\n"
   ]
  },
  {
   "cell_type": "code",
   "execution_count": 17,
   "id": "c1381dd9",
   "metadata": {},
   "outputs": [],
   "source": [
    "#loading the testing data\n",
    "test=pd.read_csv('test_.csv')\n",
    "X_test=test[['MonthlyCharge','DataUsage','DayMins','OverageFee','CustServCalls']]\n",
    "y_test=test[['Churn']]\n",
    "#standardizing the values\n",
    "X_test_scaled=scaler.fit_transform(X_test)\n",
    "X_test_std=pd.DataFrame(X_test_scaled,columns=['MonthlyCharge','DataUsage','DayMins','OverageFee','CustServCalls'])\n",
    "\n"
   ]
  },
  {
   "cell_type": "code",
   "execution_count": 18,
   "id": "d67e94eb",
   "metadata": {},
   "outputs": [
    {
     "data": {
      "text/html": [
       "<div>\n",
       "<style scoped>\n",
       "    .dataframe tbody tr th:only-of-type {\n",
       "        vertical-align: middle;\n",
       "    }\n",
       "\n",
       "    .dataframe tbody tr th {\n",
       "        vertical-align: top;\n",
       "    }\n",
       "\n",
       "    .dataframe thead th {\n",
       "        text-align: right;\n",
       "    }\n",
       "</style>\n",
       "<table border=\"1\" class=\"dataframe\">\n",
       "  <thead>\n",
       "    <tr style=\"text-align: right;\">\n",
       "      <th></th>\n",
       "      <th>MonthlyCharge</th>\n",
       "      <th>DataUsage</th>\n",
       "      <th>DayMins</th>\n",
       "      <th>OverageFee</th>\n",
       "      <th>CustServCalls</th>\n",
       "    </tr>\n",
       "  </thead>\n",
       "  <tbody>\n",
       "    <tr>\n",
       "      <th>count</th>\n",
       "      <td>667.000000</td>\n",
       "      <td>667.000000</td>\n",
       "      <td>667.000000</td>\n",
       "      <td>667.000000</td>\n",
       "      <td>667.000000</td>\n",
       "    </tr>\n",
       "    <tr>\n",
       "      <th>mean</th>\n",
       "      <td>0.402690</td>\n",
       "      <td>0.185253</td>\n",
       "      <td>0.518491</td>\n",
       "      <td>0.507229</td>\n",
       "      <td>0.199588</td>\n",
       "    </tr>\n",
       "    <tr>\n",
       "      <th>std</th>\n",
       "      <td>0.186356</td>\n",
       "      <td>0.280605</td>\n",
       "      <td>0.160516</td>\n",
       "      <td>0.160136</td>\n",
       "      <td>0.163290</td>\n",
       "    </tr>\n",
       "    <tr>\n",
       "      <th>min</th>\n",
       "      <td>0.000000</td>\n",
       "      <td>0.000000</td>\n",
       "      <td>0.000000</td>\n",
       "      <td>0.000000</td>\n",
       "      <td>0.000000</td>\n",
       "    </tr>\n",
       "    <tr>\n",
       "      <th>25%</th>\n",
       "      <td>0.277778</td>\n",
       "      <td>0.000000</td>\n",
       "      <td>0.403707</td>\n",
       "      <td>0.399157</td>\n",
       "      <td>0.125000</td>\n",
       "    </tr>\n",
       "    <tr>\n",
       "      <th>50%</th>\n",
       "      <td>0.377778</td>\n",
       "      <td>0.000000</td>\n",
       "      <td>0.519548</td>\n",
       "      <td>0.506485</td>\n",
       "      <td>0.125000</td>\n",
       "    </tr>\n",
       "    <tr>\n",
       "      <th>75%</th>\n",
       "      <td>0.512778</td>\n",
       "      <td>0.423246</td>\n",
       "      <td>0.633652</td>\n",
       "      <td>0.612516</td>\n",
       "      <td>0.250000</td>\n",
       "    </tr>\n",
       "    <tr>\n",
       "      <th>max</th>\n",
       "      <td>1.000000</td>\n",
       "      <td>1.000000</td>\n",
       "      <td>1.000000</td>\n",
       "      <td>1.000000</td>\n",
       "      <td>1.000000</td>\n",
       "    </tr>\n",
       "  </tbody>\n",
       "</table>\n",
       "</div>"
      ],
      "text/plain": [
       "       MonthlyCharge   DataUsage     DayMins  OverageFee  CustServCalls\n",
       "count     667.000000  667.000000  667.000000  667.000000     667.000000\n",
       "mean        0.402690    0.185253    0.518491    0.507229       0.199588\n",
       "std         0.186356    0.280605    0.160516    0.160136       0.163290\n",
       "min         0.000000    0.000000    0.000000    0.000000       0.000000\n",
       "25%         0.277778    0.000000    0.403707    0.399157       0.125000\n",
       "50%         0.377778    0.000000    0.519548    0.506485       0.125000\n",
       "75%         0.512778    0.423246    0.633652    0.612516       0.250000\n",
       "max         1.000000    1.000000    1.000000    1.000000       1.000000"
      ]
     },
     "execution_count": 18,
     "metadata": {},
     "output_type": "execute_result"
    }
   ],
   "source": [
    "X_test_std.describe()"
   ]
  },
  {
   "cell_type": "markdown",
   "id": "64616437",
   "metadata": {},
   "source": [
    "# MODEL SELECTION\n"
   ]
  },
  {
   "cell_type": "code",
   "execution_count": 19,
   "id": "19482d30",
   "metadata": {},
   "outputs": [
    {
     "name": "stdout",
     "output_type": "stream",
     "text": [
      "              precision    recall  f1-score   support\n",
      "\n",
      "           0       0.87      0.99      0.93       579\n",
      "           1       0.62      0.06      0.10        88\n",
      "\n",
      "    accuracy                           0.87       667\n",
      "   macro avg       0.75      0.53      0.52       667\n",
      "weighted avg       0.84      0.87      0.82       667\n",
      "\n"
     ]
    },
    {
     "data": {
      "image/png": "[encoded data removed]",
      "text/plain": [
       "<Figure size 432x288 with 2 Axes>"
      ]
     },
     "metadata": {
      "needs_background": "light"
     },
     "output_type": "display_data"
    }
   ],
   "source": [
    "## 1.Logistic regression model before applying SMOTE algorithm\n",
    "#importing the necessary libraries\n",
    "from sklearn import linear_model\n",
    "from sklearn.linear_model import LogisticRegression\n",
    "#fitting the model\n",
    "sklearn_logistic_regression_model=LogisticRegression()\n",
    "model1=sklearn_logistic_regression_model.fit(X_scaled,y)\n",
    "#predict\n",
    "y_pred=sklearn_logistic_regression_model.predict(X_test_scaled)\n",
    "y_pred\n",
    "#plot of a confusion matrix\n",
    "#loading library\n",
    "from sklearn.metrics import plot_confusion_matrix\n",
    "plot_confusion_matrix(estimator=model1,X=X_test_scaled,y_true=y_test)\n",
    "#classification report\n",
    "print(classification_report(y_test,y_pred))"
   ]
  },
  {
   "cell_type": "code",
   "execution_count": 20,
   "id": "630aaeb6",
   "metadata": {},
   "outputs": [
    {
     "name": "stdout",
     "output_type": "stream",
     "text": [
      "              precision    recall  f1-score   support\n",
      "\n",
      "           0       0.93      0.97      0.95       579\n",
      "           1       0.70      0.53      0.61        88\n",
      "\n",
      "    accuracy                           0.91       667\n",
      "   macro avg       0.82      0.75      0.78       667\n",
      "weighted avg       0.90      0.91      0.90       667\n",
      "\n"
     ]
    },
    {
     "data": {
      "image/png": "[encoded data removed]",
      "text/plain": [
       "<Figure size 432x288 with 2 Axes>"
      ]
     },
     "metadata": {
      "needs_background": "light"
     },
     "output_type": "display_data"
    }
   ],
   "source": [
    "## 2.Random Forest Model before applying SMOTE algorithm\n",
    "\n",
    "#Creating a model with 100 trees\n",
    "random_forest_model=RandomForestClassifier(n_estimators=100,bootstrap=True)\n",
    "model2=random_forest_model.fit(X_scaled,y)\n",
    "model2\n",
    "#making predictions\n",
    "random_forest_pred=random_forest_model.predict(X_test_scaled)\n",
    "random_forest_pred\n",
    "#plotting a confusion matrix\n",
    "plot_confusion_matrix(estimator=model2,X=X_test_scaled,y_true=y_test)\n",
    "#classification report\n",
    "print(classification_report(y_test, random_forest_pred))"
   ]
  },
  {
   "cell_type": "code",
   "execution_count": 21,
   "id": "fbb1f252",
   "metadata": {},
   "outputs": [
    {
     "name": "stdout",
     "output_type": "stream",
     "text": [
      "              precision    recall  f1-score   support\n",
      "\n",
      "           0       0.87      1.00      0.93       579\n",
      "           1       0.00      0.00      0.00        88\n",
      "\n",
      "    accuracy                           0.87       667\n",
      "   macro avg       0.43      0.50      0.46       667\n",
      "weighted avg       0.75      0.87      0.81       667\n",
      "\n"
     ]
    },
    {
     "data": {
      "image/png": "[encoded data removed]",
      "text/plain": [
       "<Figure size 432x288 with 2 Axes>"
      ]
     },
     "metadata": {
      "needs_background": "light"
     },
     "output_type": "display_data"
    }
   ],
   "source": [
    "## 3.SVM Model before applying SMOTE algorithm\n",
    "\n",
    "#importing the necessary libraries\n",
    "from sklearn.svm import SVC\n",
    "#using sklearn\n",
    "svc_model=SVC(C=.1,gamma=1,kernel='linear')\n",
    "model3=svc_model.fit(X_scaled,y)\n",
    "model3\n",
    "#making predictions\n",
    "svc_pred=svc_model.predict(X_test_scaled)\n",
    "svc_pred\n",
    "#plotting a confusion matrix\n",
    "plot_confusion_matrix(estimator=model3,X=X_test_scaled,y_true=y_test)\n",
    "#classification report\n",
    "print(classification_report(y_test, svc_pred))"
   ]
  },
  {
   "cell_type": "code",
   "execution_count": 22,
   "id": "40f2b52f",
   "metadata": {},
   "outputs": [
    {
     "name": "stdout",
     "output_type": "stream",
     "text": [
      "              precision    recall  f1-score   support\n",
      "\n",
      "           0       0.89      0.95      0.92       579\n",
      "           1       0.41      0.24      0.30        88\n",
      "\n",
      "    accuracy                           0.85       667\n",
      "   macro avg       0.65      0.59      0.61       667\n",
      "weighted avg       0.83      0.85      0.84       667\n",
      "\n"
     ]
    },
    {
     "data": {
      "image/png": "[encoded data removed]",
      "text/plain": [
       "<Figure size 432x288 with 2 Axes>"
      ]
     },
     "metadata": {
      "needs_background": "light"
     },
     "output_type": "display_data"
    }
   ],
   "source": [
    "## 4.Naive Bayes Model before applying SMOTE algorithm\n",
    "\n",
    "#importing the necessary librariess\n",
    "from sklearn import naive_bayes\n",
    "\n",
    "#fitting model\n",
    "naive_bayes_model=naive_bayes.GaussianNB()\n",
    "model4=naive_bayes_model.fit(X_scaled,y)\n",
    "model4\n",
    "#predicting the results\n",
    "naive_bayes_pred = naive_bayes_model.predict(X_test_scaled)\n",
    "naive_bayes_pred\n",
    "#plotting the confusion matrix\n",
    "plot_confusion_matrix(estimator=model4,X=X_test_scaled,y_true=y_test)\n",
    "#classification report\n",
    "print(classification_report(y_test, naive_bayes_pred))\n"
   ]
  },
  {
   "cell_type": "code",
   "execution_count": 23,
   "id": "3f263840",
   "metadata": {},
   "outputs": [
    {
     "name": "stdout",
     "output_type": "stream",
     "text": [
      "              precision    recall  f1-score   support\n",
      "\n",
      "           0       0.93      0.86      0.90       579\n",
      "           1       0.39      0.59      0.47        88\n",
      "\n",
      "    accuracy                           0.83       667\n",
      "   macro avg       0.66      0.73      0.68       667\n",
      "weighted avg       0.86      0.83      0.84       667\n",
      "\n"
     ]
    },
    {
     "data": {
      "image/png": "[encoded data removed]",
      "text/plain": [
       "<Figure size 432x288 with 2 Axes>"
      ]
     },
     "metadata": {
      "needs_background": "light"
     },
     "output_type": "display_data"
    }
   ],
   "source": [
    "## 5.DECISION TREE before applying SMOTE algorithm\n",
    "\n",
    "# Import Model\n",
    "from sklearn import linear_model\n",
    "from sklearn.tree import DecisionTreeClassifier\n",
    "\n",
    "\n",
    "#fitting the model\n",
    "decision_trees_model = DecisionTreeClassifier()\n",
    "model5=decision_trees_model.fit(X_scaled, y)\n",
    "#prediction of results\n",
    "decision_trees_pred = decision_trees_model.predict(X_test_scaled)\n",
    "decision_trees_pred\n",
    "#confusion matrix\n",
    "plot_confusion_matrix(estimator=model5,X=X_test_scaled,y_true=y_test)\n",
    "#classification report\n",
    "print(classification_report(y_test, decision_trees_pred))"
   ]
  },
  {
   "cell_type": "code",
   "execution_count": 41,
   "id": "fdaf3fc0",
   "metadata": {},
   "outputs": [
    {
     "ename": "AttributeError",
     "evalue": "'MLPClassifier' object has no attribute 'out_activation_'",
     "output_type": "error",
     "traceback": [
      "\u001b[1;31m---------------------------------------------------------------------------\u001b[0m",
      "\u001b[1;31mAttributeError\u001b[0m                            Traceback (most recent call last)",
      "\u001b[1;32m~\\AppData\\Local\\Temp/ipykernel_12944/86309448.py\u001b[0m in \u001b[0;36m<module>\u001b[1;34m\u001b[0m\n\u001b[0;32m      5\u001b[0m \u001b[1;31m#initializing the MLP Classifier\u001b[0m\u001b[1;33m\u001b[0m\u001b[1;33m\u001b[0m\u001b[0m\n\u001b[0;32m      6\u001b[0m \u001b[0mclassifier\u001b[0m\u001b[1;33m=\u001b[0m\u001b[0mMLPClassifier\u001b[0m\u001b[1;33m(\u001b[0m\u001b[0mmax_iter\u001b[0m\u001b[1;33m=\u001b[0m\u001b[1;36m300\u001b[0m\u001b[1;33m,\u001b[0m\u001b[0mactivation\u001b[0m\u001b[1;33m=\u001b[0m\u001b[1;34m'relu'\u001b[0m\u001b[1;33m,\u001b[0m\u001b[0msolver\u001b[0m\u001b[1;33m=\u001b[0m\u001b[1;34m'adam'\u001b[0m\u001b[1;33m,\u001b[0m\u001b[0mrandom_state\u001b[0m\u001b[1;33m=\u001b[0m\u001b[1;36m1\u001b[0m\u001b[1;33m)\u001b[0m\u001b[1;33m\u001b[0m\u001b[1;33m\u001b[0m\u001b[0m\n\u001b[1;32m----> 7\u001b[1;33m \u001b[0mclassifier\u001b[0m\u001b[1;33m.\u001b[0m\u001b[0mout_activation_\u001b[0m\u001b[1;33m(\u001b[0m\u001b[1;34m'softmax'\u001b[0m\u001b[1;33m)\u001b[0m\u001b[1;33m\u001b[0m\u001b[1;33m\u001b[0m\u001b[0m\n\u001b[0m\u001b[0;32m      8\u001b[0m \u001b[1;33m\u001b[0m\u001b[0m\n\u001b[0;32m      9\u001b[0m \u001b[1;31m#fitting the training data to the network\u001b[0m\u001b[1;33m\u001b[0m\u001b[1;33m\u001b[0m\u001b[0m\n",
      "\u001b[1;31mAttributeError\u001b[0m: 'MLPClassifier' object has no attribute 'out_activation_'"
     ]
    }
   ],
   "source": [
    "# MLP CLASSIFIER\n",
    "# Importing MLP Classifier\n",
    "from sklearn.neural_network import MLPClassifier\n",
    "\n",
    "#initializing the MLP Classifier\n",
    "classifier=MLPClassifier(max_iter=300,activation='relu',solver='adam',random_state=1)\n",
    "classifier.out_activation_('softmax')\n",
    "\n",
    "#fitting the training data to the network\n",
    "model6=classifier.fit(X_scaled,y)\n",
    "model6\n",
    "#using the trained network to predict\n",
    "#predicting y_test from x_test\n",
    "MLP_pred=classifier.predict(X_test_scaled)\n",
    "MLP_pred\n",
    "#confusion matrix\n",
    "plot_confusion_matrix(estimator=model6,X=X_test_scaled,y_true=y_test)\n",
    "#classification report\n",
    "print(classification_report(y_test, MLP_pred))\n"
   ]
  },
  {
   "cell_type": "code",
   "execution_count": 40,
   "id": "e2bd847c",
   "metadata": {},
   "outputs": [
    {
     "ename": "AttributeError",
     "evalue": "'MLPClassifier' object has no attribute 'out_activation'",
     "output_type": "error",
     "traceback": [
      "\u001b[1;31m---------------------------------------------------------------------------\u001b[0m",
      "\u001b[1;31mAttributeError\u001b[0m                            Traceback (most recent call last)",
      "\u001b[1;32m~\\AppData\\Local\\Temp/ipykernel_12944/2626081481.py\u001b[0m in \u001b[0;36m<module>\u001b[1;34m\u001b[0m\n\u001b[1;32m----> 1\u001b[1;33m \u001b[0mclassifier\u001b[0m\u001b[1;33m.\u001b[0m\u001b[0mout_activation\u001b[0m\u001b[1;33m(\u001b[0m\u001b[1;34m'softmax'\u001b[0m\u001b[1;33m)\u001b[0m\u001b[1;33m\u001b[0m\u001b[1;33m\u001b[0m\u001b[0m\n\u001b[0m",
      "\u001b[1;31mAttributeError\u001b[0m: 'MLPClassifier' object has no attribute 'out_activation'"
     ]
    }
   ],
   "source": [
    "classifier.out_activation('softmax')"
   ]
  },
  {
   "cell_type": "code",
   "execution_count": 28,
   "id": "60e99847",
   "metadata": {},
   "outputs": [
    {
     "data": {
      "text/html": [
       "<style>#sk-container-id-1 {color: black;background-color: white;}#sk-container-id-1 pre{padding: 0;}#sk-container-id-1 div.sk-toggleable {background-color: white;}#sk-container-id-1 label.sk-toggleable__label {cursor: pointer;display: block;width: 100%;margin-bottom: 0;padding: 0.3em;box-sizing: border-box;text-align: center;}#sk-container-id-1 label.sk-toggleable__label-arrow:before {content: \"▸\";float: left;margin-right: 0.25em;color: #696969;}#sk-container-id-1 label.sk-toggleable__label-arrow:hover:before {color: black;}#sk-container-id-1 div.sk-estimator:hover label.sk-toggleable__label-arrow:before {color: black;}#sk-container-id-1 div.sk-toggleable__content {max-height: 0;max-width: 0;overflow: hidden;text-align: left;background-color: #f0f8ff;}#sk-container-id-1 div.sk-toggleable__content pre {margin: 0.2em;color: black;border-radius: 0.25em;background-color: #f0f8ff;}#sk-container-id-1 input.sk-toggleable__control:checked~div.sk-toggleable__content {max-height: 200px;max-width: 100%;overflow: auto;}#sk-container-id-1 input.sk-toggleable__control:checked~label.sk-toggleable__label-arrow:before {content: \"▾\";}#sk-container-id-1 div.sk-estimator input.sk-toggleable__control:checked~label.sk-toggleable__label {background-color: #d4ebff;}#sk-container-id-1 div.sk-label input.sk-toggleable__control:checked~label.sk-toggleable__label {background-color: #d4ebff;}#sk-container-id-1 input.sk-hidden--visually {border: 0;clip: rect(1px 1px 1px 1px);clip: rect(1px, 1px, 1px, 1px);height: 1px;margin: -1px;overflow: hidden;padding: 0;position: absolute;width: 1px;}#sk-container-id-1 div.sk-estimator {font-family: monospace;background-color: #f0f8ff;border: 1px dotted black;border-radius: 0.25em;box-sizing: border-box;margin-bottom: 0.5em;}#sk-container-id-1 div.sk-estimator:hover {background-color: #d4ebff;}#sk-container-id-1 div.sk-parallel-item::after {content: \"\";width: 100%;border-bottom: 1px solid gray;flex-grow: 1;}#sk-container-id-1 div.sk-label:hover label.sk-toggleable__label {background-color: #d4ebff;}#sk-container-id-1 div.sk-serial::before {content: \"\";position: absolute;border-left: 1px solid gray;box-sizing: border-box;top: 0;bottom: 0;left: 50%;z-index: 0;}#sk-container-id-1 div.sk-serial {display: flex;flex-direction: column;align-items: center;background-color: white;padding-right: 0.2em;padding-left: 0.2em;position: relative;}#sk-container-id-1 div.sk-item {position: relative;z-index: 1;}#sk-container-id-1 div.sk-parallel {display: flex;align-items: stretch;justify-content: center;background-color: white;position: relative;}#sk-container-id-1 div.sk-item::before, #sk-container-id-1 div.sk-parallel-item::before {content: \"\";position: absolute;border-left: 1px solid gray;box-sizing: border-box;top: 0;bottom: 0;left: 50%;z-index: -1;}#sk-container-id-1 div.sk-parallel-item {display: flex;flex-direction: column;z-index: 1;position: relative;background-color: white;}#sk-container-id-1 div.sk-parallel-item:first-child::after {align-self: flex-end;width: 50%;}#sk-container-id-1 div.sk-parallel-item:last-child::after {align-self: flex-start;width: 50%;}#sk-container-id-1 div.sk-parallel-item:only-child::after {width: 0;}#sk-container-id-1 div.sk-dashed-wrapped {border: 1px dashed gray;margin: 0 0.4em 0.5em 0.4em;box-sizing: border-box;padding-bottom: 0.4em;background-color: white;}#sk-container-id-1 div.sk-label label {font-family: monospace;font-weight: bold;display: inline-block;line-height: 1.2em;}#sk-container-id-1 div.sk-label-container {text-align: center;}#sk-container-id-1 div.sk-container {/* jupyter's `normalize.less` sets `[hidden] { display: none; }` but bootstrap.min.css set `[hidden] { display: none !important; }` so we also need the `!important` here to be able to override the default hidden behavior on the sphinx rendered scikit-learn.org. See: https://github.com/scikit-learn/scikit-learn/issues/21755 */display: inline-block !important;position: relative;}#sk-container-id-1 div.sk-text-repr-fallback {display: none;}</style><div id=\"sk-container-id-1\" class=\"sk-top-container\"><div class=\"sk-text-repr-fallback\"><pre>MLPClassifier(max_iter=300, random_state=1)</pre><b>In a Jupyter environment, please rerun this cell to show the HTML representation or trust the notebook. <br />On GitHub, the HTML representation is unable to render, please try loading this page with nbviewer.org.</b></div><div class=\"sk-container\" hidden><div class=\"sk-item\"><div class=\"sk-estimator sk-toggleable\"><input class=\"sk-toggleable__control sk-hidden--visually\" id=\"sk-estimator-id-1\" type=\"checkbox\" checked><label for=\"sk-estimator-id-1\" class=\"sk-toggleable__label sk-toggleable__label-arrow\">MLPClassifier</label><div class=\"sk-toggleable__content\"><pre>MLPClassifier(max_iter=300, random_state=1)</pre></div></div></div></div></div>"
      ],
      "text/plain": [
       "MLPClassifier(max_iter=300, random_state=1)"
      ]
     },
     "execution_count": 28,
     "metadata": {},
     "output_type": "execute_result"
    }
   ],
   "source": [
    "model6"
   ]
  },
  {
   "cell_type": "code",
   "execution_count": 29,
   "id": "a1d235f3",
   "metadata": {},
   "outputs": [
    {
     "data": {
      "text/plain": [
       "array([0, 0, 0, 0, 1, 0, 0, 0, 0, 0, 0, 0, 0, 0, 1, 0, 0, 0, 0, 0, 0, 0,\n",
       "       0, 0, 0, 0, 0, 0, 0, 0, 0, 0, 0, 0, 0, 0, 1, 0, 0, 0, 0, 1, 1, 1,\n",
       "       0, 0, 0, 0, 1, 0, 0, 0, 0, 0, 0, 0, 0, 0, 0, 0, 1, 0, 0, 0, 0, 0,\n",
       "       0, 0, 0, 0, 0, 0, 0, 0, 0, 1, 0, 0, 0, 0, 0, 0, 0, 0, 0, 0, 0, 0,\n",
       "       1, 0, 0, 0, 0, 0, 0, 1, 0, 0, 0, 0, 0, 0, 0, 0, 0, 0, 0, 0, 0, 0,\n",
       "       0, 0, 0, 0, 0, 0, 0, 0, 0, 0, 0, 0, 0, 0, 0, 1, 0, 0, 0, 0, 0, 0,\n",
       "       0, 0, 0, 0, 0, 0, 1, 0, 0, 0, 1, 0, 0, 0, 0, 0, 0, 0, 0, 0, 0, 0,\n",
       "       0, 0, 0, 0, 1, 0, 0, 0, 1, 0, 0, 0, 1, 0, 1, 0, 0, 0, 0, 0, 0, 0,\n",
       "       0, 0, 0, 0, 0, 0, 0, 0, 0, 1, 0, 0, 0, 1, 0, 0, 0, 1, 0, 0, 0, 0,\n",
       "       0, 0, 0, 0, 0, 0, 0, 0, 0, 0, 0, 1, 0, 0, 1, 0, 0, 0, 0, 0, 0, 0,\n",
       "       0, 1, 0, 0, 0, 0, 0, 0, 0, 0, 0, 0, 0, 0, 0, 0, 1, 0, 0, 0, 0, 0,\n",
       "       0, 0, 0, 1, 1, 0, 0, 0, 0, 0, 0, 0, 0, 0, 0, 0, 0, 0, 0, 0, 0, 0,\n",
       "       0, 0, 0, 0, 0, 0, 0, 0, 0, 0, 1, 0, 0, 0, 0, 0, 0, 0, 0, 0, 0, 0,\n",
       "       0, 1, 0, 0, 0, 0, 0, 0, 0, 0, 0, 1, 0, 0, 0, 0, 0, 0, 0, 0, 0, 0,\n",
       "       0, 1, 0, 0, 0, 0, 0, 0, 0, 0, 0, 0, 0, 0, 0, 0, 0, 0, 0, 0, 0, 0,\n",
       "       0, 0, 1, 0, 0, 0, 0, 0, 0, 1, 0, 0, 0, 1, 0, 0, 0, 0, 0, 0, 0, 0,\n",
       "       0, 0, 0, 0, 0, 0, 0, 1, 0, 0, 0, 0, 0, 0, 0, 0, 0, 0, 0, 0, 0, 1,\n",
       "       0, 0, 0, 0, 0, 0, 0, 0, 0, 0, 0, 0, 0, 0, 0, 0, 0, 0, 1, 0, 0, 1,\n",
       "       1, 0, 0, 0, 0, 0, 0, 0, 0, 0, 0, 0, 0, 0, 1, 0, 0, 0, 0, 0, 0, 0,\n",
       "       0, 0, 0, 0, 0, 0, 0, 0, 0, 0, 0, 0, 0, 0, 0, 0, 0, 0, 0, 0, 0, 0,\n",
       "       0, 0, 1, 0, 1, 0, 1, 0, 0, 1, 0, 0, 0, 0, 0, 0, 0, 0, 0, 0, 0, 0,\n",
       "       0, 0, 0, 0, 0, 1, 0, 0, 0, 0, 0, 0, 0, 0, 0, 0, 0, 0, 0, 0, 0, 0,\n",
       "       0, 0, 0, 0, 1, 0, 0, 0, 0, 0, 0, 0, 0, 0, 0, 0, 0, 0, 0, 0, 0, 0,\n",
       "       1, 0, 0, 0, 0, 0, 0, 0, 0, 0, 0, 0, 0, 0, 0, 0, 0, 1, 0, 0, 0, 0,\n",
       "       0, 0, 0, 0, 0, 0, 0, 0, 0, 0, 0, 0, 0, 0, 1, 0, 0, 0, 0, 1, 0, 0,\n",
       "       0, 0, 1, 0, 0, 0, 0, 1, 0, 0, 0, 0, 0, 0, 0, 0, 0, 1, 0, 0, 0, 0,\n",
       "       0, 0, 0, 0, 0, 0, 1, 0, 0, 0, 0, 0, 0, 0, 0, 0, 0, 0, 0, 0, 0, 0,\n",
       "       0, 0, 0, 0, 0, 0, 0, 0, 0, 0, 0, 0, 0, 0, 0, 0, 0, 1, 0, 0, 1, 0,\n",
       "       0, 0, 1, 0, 0, 0, 0, 0, 0, 0, 0, 0, 0, 0, 0, 1, 0, 0, 0, 0, 1, 1,\n",
       "       0, 0, 0, 0, 0, 0, 0, 1, 0, 0, 0, 0, 0, 0, 0, 0, 0, 0, 0, 0, 0, 0,\n",
       "       0, 0, 0, 0, 0, 0, 0], dtype=int64)"
      ]
     },
     "execution_count": 29,
     "metadata": {},
     "output_type": "execute_result"
    }
   ],
   "source": [
    "MLP_pred"
   ]
  },
  {
   "cell_type": "markdown",
   "id": "9fd11a95",
   "metadata": {},
   "source": [
    "## SMOTE ALGORITHM FOR OVERSAMPLING"
   ]
  },
  {
   "cell_type": "code",
   "execution_count": 31,
   "id": "ab5a0ef1",
   "metadata": {},
   "outputs": [],
   "source": [
    "#importing the necessary libraries\n",
    "from imblearn.over_sampling import SMOTE\n",
    "# applying the smote algorithm\n",
    "sm=SMOTE(random_state=12,sampling_strategy=\"not majority\")\n",
    "X_balanced,y_balanced=sm.fit_resample(X_scaled,y)"
   ]
  },
  {
   "cell_type": "code",
   "execution_count": 32,
   "id": "c5c92f1c",
   "metadata": {},
   "outputs": [
    {
     "data": {
      "text/plain": [
       "Churn\n",
       "0        2271\n",
       "1        2271\n",
       "dtype: int64"
      ]
     },
     "execution_count": 32,
     "metadata": {},
     "output_type": "execute_result"
    }
   ],
   "source": [
    "#value count of the new y generates\n",
    "y_balanced.value_counts()"
   ]
  },
  {
   "cell_type": "code",
   "execution_count": 33,
   "id": "b7c27417",
   "metadata": {},
   "outputs": [
    {
     "data": {
      "text/plain": [
       "Churn\n",
       "0        579\n",
       "1        579\n",
       "dtype: int64"
      ]
     },
     "execution_count": 33,
     "metadata": {},
     "output_type": "execute_result"
    }
   ],
   "source": [
    "X_test_balanced,y_test_balanced=sm.fit_resample(X_test_scaled,y_test)\n",
    "#value count\n",
    "y_test_balanced.value_counts()"
   ]
  },
  {
   "cell_type": "code",
   "execution_count": null,
   "id": "95c730b9",
   "metadata": {},
   "outputs": [],
   "source": []
  },
  {
   "cell_type": "markdown",
   "id": "cda22550",
   "metadata": {},
   "source": [
    "## FITTING MODELS ON THE BALANCED DATASET "
   ]
  },
  {
   "cell_type": "code",
   "execution_count": 34,
   "id": "fdce7f57",
   "metadata": {},
   "outputs": [
    {
     "name": "stdout",
     "output_type": "stream",
     "text": [
      "              precision    recall  f1-score   support\n",
      "\n",
      "           0       0.72      0.79      0.75       579\n",
      "           1       0.77      0.69      0.73       579\n",
      "\n",
      "    accuracy                           0.74      1158\n",
      "   macro avg       0.74      0.74      0.74      1158\n",
      "weighted avg       0.74      0.74      0.74      1158\n",
      "\n"
     ]
    },
    {
     "data": {
      "image/png": "[encoded data removed]",
      "text/plain": [
       "<Figure size 432x288 with 2 Axes>"
      ]
     },
     "metadata": {
      "needs_background": "light"
     },
     "output_type": "display_data"
    }
   ],
   "source": [
    "# 1.Random Forest Model after applying SMOTE algorithm \n",
    "#Fitting the model\n",
    "random_forest_model=RandomForestClassifier(n_estimators=100,bootstrap=True)\n",
    "RFmodel=random_forest_model.fit(X_balanced,y_balanced)\n",
    "#making predictions\n",
    "random_forest_predB=random_forest_model.predict(X_test_balanced)\n",
    "random_forest_predB\n",
    "#plotting a confusion matrix\n",
    "plot_confusion_matrix(estimator=RFmodel,X=X_test_balanced,y_true=y_test_balanced)\n",
    "print(classification_report(y_test_balanced, random_forest_predB))"
   ]
  },
  {
   "cell_type": "code",
   "execution_count": 116,
   "id": "b92a72fc",
   "metadata": {},
   "outputs": [
    {
     "name": "stdout",
     "output_type": "stream",
     "text": [
      "              precision    recall  f1-score   support\n",
      "\n",
      "           0       0.70      0.76      0.73       579\n",
      "           1       0.74      0.68      0.71       579\n",
      "\n",
      "    accuracy                           0.72      1158\n",
      "   macro avg       0.72      0.72      0.72      1158\n",
      "weighted avg       0.72      0.72      0.72      1158\n",
      "\n"
     ]
    },
    {
     "data": {
      "image/png": "[encoded data removed]",
      "text/plain": [
       "<Figure size 432x288 with 2 Axes>"
      ]
     },
     "metadata": {
      "needs_background": "light"
     },
     "output_type": "display_data"
    }
   ],
   "source": [
    "# 2.NAIVE BAYES MODEL after applying SMOTE algorithm balancing dataset\n",
    "#fitting the model\n",
    "naive_bayes_model=naive_bayes.GaussianNB()\n",
    "NBmodel=naive_bayes_model.fit(X_res,y_res)\n",
    "#making predictions\n",
    "naive_bayes_predB = naive_bayes_model.predict(X_testB)\n",
    "naive_bayes_predB\n",
    "#plotting a cnfusion matrix\n",
    "plot_confusion_matrix(estimator=NBmodel,X=X_testB,y_true=y_testB)\n",
    "#print classification report\n",
    "print(classification_report(y_testB, naive_bayes_predB))\n"
   ]
  },
  {
   "cell_type": "code",
   "execution_count": 119,
   "id": "bdc1ebf9",
   "metadata": {},
   "outputs": [
    {
     "name": "stdout",
     "output_type": "stream",
     "text": [
      "              precision    recall  f1-score   support\n",
      "\n",
      "           0       0.69      0.71      0.70       579\n",
      "           1       0.70      0.68      0.69       579\n",
      "\n",
      "    accuracy                           0.70      1158\n",
      "   macro avg       0.70      0.70      0.70      1158\n",
      "weighted avg       0.70      0.70      0.70      1158\n",
      "\n"
     ]
    },
    {
     "data": {
      "image/png": "[encoded data removed]",
      "text/plain": [
       "<Figure size 432x288 with 2 Axes>"
      ]
     },
     "metadata": {
      "needs_background": "light"
     },
     "output_type": "display_data"
    }
   ],
   "source": [
    "# 3.LOGISTIC REGRESSION after appling SMOTE algorithm balancing dataset\n",
    "#fitting the model\n",
    "sklearn_logistic_regression_model=LogisticRegression()\n",
    "LRmodel=sklearn_logistic_regression_model.fit(X_res,y_res)\n",
    "#predict\n",
    "logistic_predB=sklearn_logistic_regression_model.predict(X_testB)\n",
    "logistic_predB\n",
    "#plot of confusion matrix\n",
    "plot_confusion_matrix(estimator=model1,X=X_testB,y_true=y_testB)\n",
    "#classification report\n",
    "print(classification_report(y_testB,logistic_predB))"
   ]
  },
  {
   "cell_type": "code",
   "execution_count": 120,
   "id": "c2d7e1a2",
   "metadata": {},
   "outputs": [
    {
     "name": "stdout",
     "output_type": "stream",
     "text": [
      "              precision    recall  f1-score   support\n",
      "\n",
      "           0       0.69      0.72      0.70       579\n",
      "           1       0.70      0.68      0.69       579\n",
      "\n",
      "    accuracy                           0.70      1158\n",
      "   macro avg       0.70      0.70      0.70      1158\n",
      "weighted avg       0.70      0.70      0.70      1158\n",
      "\n"
     ]
    },
    {
     "data": {
      "image/png": "[encoded data removed]",
      "text/plain": [
       "<Figure size 432x288 with 2 Axes>"
      ]
     },
     "metadata": {
      "needs_background": "light"
     },
     "output_type": "display_data"
    }
   ],
   "source": [
    "# 4.SVM MODEL after applying SMOTE algorithm.\n",
    "#fitting the model\n",
    "svc_model=SVC(C=.1,gamma=1,kernel='linear')\n",
    "SVmodel=svc_model.fit(X_res,y_res)\n",
    "#making predictions\n",
    "svc_predB=svc_model.predict(X_testB)\n",
    "svc_predB\n",
    "#confusion matrix.\n",
    "plot_confusion_matrix(estimator=model3,X=X_testB,y_true=y_testB)\n",
    "#classification report\n",
    "print(classification_report(y_testB,svc_predB))\n",
    "\n",
    "\n"
   ]
  },
  {
   "cell_type": "code",
   "execution_count": 121,
   "id": "ab3738f7",
   "metadata": {},
   "outputs": [
    {
     "name": "stdout",
     "output_type": "stream",
     "text": [
      "              precision    recall  f1-score   support\n",
      "\n",
      "           0       0.72      0.81      0.76       579\n",
      "           1       0.78      0.68      0.73       579\n",
      "\n",
      "    accuracy                           0.74      1158\n",
      "   macro avg       0.75      0.74      0.74      1158\n",
      "weighted avg       0.75      0.74      0.74      1158\n",
      "\n"
     ]
    },
    {
     "data": {
      "image/png": "[encoded data removed]",
      "text/plain": [
       "<Figure size 432x288 with 2 Axes>"
      ]
     },
     "metadata": {
      "needs_background": "light"
     },
     "output_type": "display_data"
    }
   ],
   "source": [
    "# 5.Decision Tree after applying SMOTE algorithm.\n",
    "\n",
    "#fitting the model\n",
    "decision_trees_model = DecisionTreeClassifier()\n",
    "DTmodel=decision_trees_model.fit(X_res, y_res)\n",
    "#prediction of results\n",
    "decision_trees_predB = decision_trees_model.predict(X_testB)\n",
    "decision_trees_predB\n",
    "#confusion matrix\n",
    "plot_confusion_matrix(estimator=model5,X=X_testB,y_true=y_testB)\n",
    "\n",
    "#classification report\n",
    "print(classification_report(y_testB, decision_trees_predB))\n"
   ]
  },
  {
   "cell_type": "code",
   "execution_count": 37,
   "id": "d067de55",
   "metadata": {},
   "outputs": [
    {
     "name": "stdout",
     "output_type": "stream",
     "text": [
      "              precision    recall  f1-score   support\n",
      "\n",
      "           0       0.75      0.88      0.81       579\n",
      "           1       0.85      0.70      0.77       579\n",
      "\n",
      "    accuracy                           0.79      1158\n",
      "   macro avg       0.80      0.79      0.79      1158\n",
      "weighted avg       0.80      0.79      0.79      1158\n",
      "\n"
     ]
    },
    {
     "data": {
      "image/png": "[encoded data removed]",
      "text/plain": [
       "<Figure size 432x288 with 2 Axes>"
      ]
     },
     "metadata": {
      "needs_background": "light"
     },
     "output_type": "display_data"
    }
   ],
   "source": [
    "# MLP CLASSIFIER\n",
    "# Importing MLP Classifier\n",
    "from sklearn.neural_network import MLPClassifier\n",
    "\n",
    "#initializing the MLP Classifier\n",
    "classifier=MLPClassifier(max_iter=300,activation='relu',solver='adam',random_state=1)\n",
    "\n",
    "#fitting the training data to the network\n",
    "model6=classifier.fit(X_balanced,y_balanced)\n",
    "model6\n",
    "#using the trained network to predict\n",
    "#predicting y_test from x_test\n",
    "MLP_pred=classifier.predict(X_test_balanced)\n",
    "MLP_pred\n",
    "#confusion matrix\n",
    "plot_confusion_matrix(estimator=model6,X=X_test_balanced,y_true=y_test_balanced)\n",
    "#classification report\n",
    "print(classification_report(y_test_balanced, MLP_pred))\n"
   ]
  },
  {
   "cell_type": "code",
   "execution_count": null,
   "id": "cf65debd",
   "metadata": {},
   "outputs": [],
   "source": []
  }
 ],
 "metadata": {
  "kernelspec": {
   "display_name": "Python 3 (ipykernel)",
   "language": "python",
   "name": "python3"
  },
  "language_info": {
   "codemirror_mode": {
    "name": "ipython",
    "version": 3
   },
   "file_extension": ".py",
   "mimetype": "text/x-python",
   "name": "python",
   "nbconvert_exporter": "python",
   "pygments_lexer": "ipython3",
   "version": "3.9.7"
  }
 },
 "nbformat": 4,
 "nbformat_minor": 5
}
